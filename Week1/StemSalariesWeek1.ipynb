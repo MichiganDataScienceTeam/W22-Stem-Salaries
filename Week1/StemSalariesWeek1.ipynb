{
 "cells": [
  {
   "cell_type": "markdown",
   "id": "46e6081b",
   "metadata": {},
   "source": [
    "Questions: I wanted to look at the different average compensations based on job title, investigate the gender distribution for all STEM jobs as well as specifically data scientists, and how years of experience and years at company affect base salary."
   ]
  },
  {
   "cell_type": "code",
   "execution_count": 1,
   "id": "61df5a03",
   "metadata": {},
   "outputs": [],
   "source": [
    "import numpy as np\n",
    "import pandas as pd\n",
    "import matplotlib.pyplot as plt\n",
    "import seaborn as sns"
   ]
  },
  {
   "cell_type": "code",
   "execution_count": 18,
   "id": "5e54f686",
   "metadata": {},
   "outputs": [
    {
     "data": {
      "text/html": [
       "<div>\n",
       "<style scoped>\n",
       "    .dataframe tbody tr th:only-of-type {\n",
       "        vertical-align: middle;\n",
       "    }\n",
       "\n",
       "    .dataframe tbody tr th {\n",
       "        vertical-align: top;\n",
       "    }\n",
       "\n",
       "    .dataframe thead th {\n",
       "        text-align: right;\n",
       "    }\n",
       "</style>\n",
       "<table border=\"1\" class=\"dataframe\">\n",
       "  <thead>\n",
       "    <tr style=\"text-align: right;\">\n",
       "      <th></th>\n",
       "      <th>timestamp</th>\n",
       "      <th>company</th>\n",
       "      <th>level</th>\n",
       "      <th>title</th>\n",
       "      <th>totalyearlycompensation</th>\n",
       "      <th>location</th>\n",
       "      <th>yearsofexperience</th>\n",
       "      <th>yearsatcompany</th>\n",
       "      <th>tag</th>\n",
       "      <th>basesalary</th>\n",
       "      <th>...</th>\n",
       "      <th>Doctorate_Degree</th>\n",
       "      <th>Highschool</th>\n",
       "      <th>Some_College</th>\n",
       "      <th>Race_Asian</th>\n",
       "      <th>Race_White</th>\n",
       "      <th>Race_Two_Or_More</th>\n",
       "      <th>Race_Black</th>\n",
       "      <th>Race_Hispanic</th>\n",
       "      <th>Race</th>\n",
       "      <th>Education</th>\n",
       "    </tr>\n",
       "  </thead>\n",
       "  <tbody>\n",
       "    <tr>\n",
       "      <th>0</th>\n",
       "      <td>6/7/2017 11:33:27</td>\n",
       "      <td>Oracle</td>\n",
       "      <td>L3</td>\n",
       "      <td>Product Manager</td>\n",
       "      <td>127000</td>\n",
       "      <td>Redwood City, CA</td>\n",
       "      <td>1.5</td>\n",
       "      <td>1.5</td>\n",
       "      <td>NaN</td>\n",
       "      <td>107000.0</td>\n",
       "      <td>...</td>\n",
       "      <td>0</td>\n",
       "      <td>0</td>\n",
       "      <td>0</td>\n",
       "      <td>0</td>\n",
       "      <td>0</td>\n",
       "      <td>0</td>\n",
       "      <td>0</td>\n",
       "      <td>0</td>\n",
       "      <td>NaN</td>\n",
       "      <td>NaN</td>\n",
       "    </tr>\n",
       "    <tr>\n",
       "      <th>1</th>\n",
       "      <td>6/10/2017 17:11:29</td>\n",
       "      <td>eBay</td>\n",
       "      <td>SE 2</td>\n",
       "      <td>Software Engineer</td>\n",
       "      <td>100000</td>\n",
       "      <td>San Francisco, CA</td>\n",
       "      <td>5.0</td>\n",
       "      <td>3.0</td>\n",
       "      <td>NaN</td>\n",
       "      <td>0.0</td>\n",
       "      <td>...</td>\n",
       "      <td>0</td>\n",
       "      <td>0</td>\n",
       "      <td>0</td>\n",
       "      <td>0</td>\n",
       "      <td>0</td>\n",
       "      <td>0</td>\n",
       "      <td>0</td>\n",
       "      <td>0</td>\n",
       "      <td>NaN</td>\n",
       "      <td>NaN</td>\n",
       "    </tr>\n",
       "    <tr>\n",
       "      <th>2</th>\n",
       "      <td>6/11/2017 14:53:57</td>\n",
       "      <td>Amazon</td>\n",
       "      <td>L7</td>\n",
       "      <td>Product Manager</td>\n",
       "      <td>310000</td>\n",
       "      <td>Seattle, WA</td>\n",
       "      <td>8.0</td>\n",
       "      <td>0.0</td>\n",
       "      <td>NaN</td>\n",
       "      <td>155000.0</td>\n",
       "      <td>...</td>\n",
       "      <td>0</td>\n",
       "      <td>0</td>\n",
       "      <td>0</td>\n",
       "      <td>0</td>\n",
       "      <td>0</td>\n",
       "      <td>0</td>\n",
       "      <td>0</td>\n",
       "      <td>0</td>\n",
       "      <td>NaN</td>\n",
       "      <td>NaN</td>\n",
       "    </tr>\n",
       "    <tr>\n",
       "      <th>3</th>\n",
       "      <td>6/17/2017 0:23:14</td>\n",
       "      <td>Apple</td>\n",
       "      <td>M1</td>\n",
       "      <td>Software Engineering Manager</td>\n",
       "      <td>372000</td>\n",
       "      <td>Sunnyvale, CA</td>\n",
       "      <td>7.0</td>\n",
       "      <td>5.0</td>\n",
       "      <td>NaN</td>\n",
       "      <td>157000.0</td>\n",
       "      <td>...</td>\n",
       "      <td>0</td>\n",
       "      <td>0</td>\n",
       "      <td>0</td>\n",
       "      <td>0</td>\n",
       "      <td>0</td>\n",
       "      <td>0</td>\n",
       "      <td>0</td>\n",
       "      <td>0</td>\n",
       "      <td>NaN</td>\n",
       "      <td>NaN</td>\n",
       "    </tr>\n",
       "    <tr>\n",
       "      <th>4</th>\n",
       "      <td>6/20/2017 10:58:51</td>\n",
       "      <td>Microsoft</td>\n",
       "      <td>60</td>\n",
       "      <td>Software Engineer</td>\n",
       "      <td>157000</td>\n",
       "      <td>Mountain View, CA</td>\n",
       "      <td>5.0</td>\n",
       "      <td>3.0</td>\n",
       "      <td>NaN</td>\n",
       "      <td>0.0</td>\n",
       "      <td>...</td>\n",
       "      <td>0</td>\n",
       "      <td>0</td>\n",
       "      <td>0</td>\n",
       "      <td>0</td>\n",
       "      <td>0</td>\n",
       "      <td>0</td>\n",
       "      <td>0</td>\n",
       "      <td>0</td>\n",
       "      <td>NaN</td>\n",
       "      <td>NaN</td>\n",
       "    </tr>\n",
       "    <tr>\n",
       "      <th>...</th>\n",
       "      <td>...</td>\n",
       "      <td>...</td>\n",
       "      <td>...</td>\n",
       "      <td>...</td>\n",
       "      <td>...</td>\n",
       "      <td>...</td>\n",
       "      <td>...</td>\n",
       "      <td>...</td>\n",
       "      <td>...</td>\n",
       "      <td>...</td>\n",
       "      <td>...</td>\n",
       "      <td>...</td>\n",
       "      <td>...</td>\n",
       "      <td>...</td>\n",
       "      <td>...</td>\n",
       "      <td>...</td>\n",
       "      <td>...</td>\n",
       "      <td>...</td>\n",
       "      <td>...</td>\n",
       "      <td>...</td>\n",
       "      <td>...</td>\n",
       "    </tr>\n",
       "    <tr>\n",
       "      <th>62637</th>\n",
       "      <td>9/9/2018 11:52:32</td>\n",
       "      <td>Google</td>\n",
       "      <td>T4</td>\n",
       "      <td>Software Engineer</td>\n",
       "      <td>327000</td>\n",
       "      <td>Seattle, WA</td>\n",
       "      <td>10.0</td>\n",
       "      <td>1.0</td>\n",
       "      <td>Distributed Systems (Back-End)</td>\n",
       "      <td>155000.0</td>\n",
       "      <td>...</td>\n",
       "      <td>0</td>\n",
       "      <td>0</td>\n",
       "      <td>0</td>\n",
       "      <td>0</td>\n",
       "      <td>0</td>\n",
       "      <td>0</td>\n",
       "      <td>0</td>\n",
       "      <td>0</td>\n",
       "      <td>NaN</td>\n",
       "      <td>NaN</td>\n",
       "    </tr>\n",
       "    <tr>\n",
       "      <th>62638</th>\n",
       "      <td>9/13/2018 8:23:32</td>\n",
       "      <td>Microsoft</td>\n",
       "      <td>62</td>\n",
       "      <td>Software Engineer</td>\n",
       "      <td>237000</td>\n",
       "      <td>Redmond, WA</td>\n",
       "      <td>2.0</td>\n",
       "      <td>2.0</td>\n",
       "      <td>Full Stack</td>\n",
       "      <td>146900.0</td>\n",
       "      <td>...</td>\n",
       "      <td>0</td>\n",
       "      <td>0</td>\n",
       "      <td>0</td>\n",
       "      <td>0</td>\n",
       "      <td>0</td>\n",
       "      <td>0</td>\n",
       "      <td>0</td>\n",
       "      <td>0</td>\n",
       "      <td>NaN</td>\n",
       "      <td>NaN</td>\n",
       "    </tr>\n",
       "    <tr>\n",
       "      <th>62639</th>\n",
       "      <td>9/13/2018 14:35:59</td>\n",
       "      <td>MSFT</td>\n",
       "      <td>63</td>\n",
       "      <td>Software Engineer</td>\n",
       "      <td>220000</td>\n",
       "      <td>Seattle, WA</td>\n",
       "      <td>14.0</td>\n",
       "      <td>12.0</td>\n",
       "      <td>Full Stack</td>\n",
       "      <td>157000.0</td>\n",
       "      <td>...</td>\n",
       "      <td>0</td>\n",
       "      <td>0</td>\n",
       "      <td>0</td>\n",
       "      <td>0</td>\n",
       "      <td>0</td>\n",
       "      <td>0</td>\n",
       "      <td>0</td>\n",
       "      <td>0</td>\n",
       "      <td>NaN</td>\n",
       "      <td>NaN</td>\n",
       "    </tr>\n",
       "    <tr>\n",
       "      <th>62640</th>\n",
       "      <td>9/16/2018 16:10:35</td>\n",
       "      <td>Salesforce</td>\n",
       "      <td>Lead MTS</td>\n",
       "      <td>Software Engineer</td>\n",
       "      <td>280000</td>\n",
       "      <td>San Francisco, CA</td>\n",
       "      <td>8.0</td>\n",
       "      <td>4.0</td>\n",
       "      <td>iOS</td>\n",
       "      <td>194688.0</td>\n",
       "      <td>...</td>\n",
       "      <td>0</td>\n",
       "      <td>0</td>\n",
       "      <td>0</td>\n",
       "      <td>0</td>\n",
       "      <td>0</td>\n",
       "      <td>0</td>\n",
       "      <td>0</td>\n",
       "      <td>0</td>\n",
       "      <td>NaN</td>\n",
       "      <td>NaN</td>\n",
       "    </tr>\n",
       "    <tr>\n",
       "      <th>62641</th>\n",
       "      <td>1/29/2019 5:12:59</td>\n",
       "      <td>apple</td>\n",
       "      <td>ict3</td>\n",
       "      <td>Software Engineer</td>\n",
       "      <td>200000</td>\n",
       "      <td>Sunnyvale, CA</td>\n",
       "      <td>0.0</td>\n",
       "      <td>0.0</td>\n",
       "      <td>ML / AI</td>\n",
       "      <td>155000.0</td>\n",
       "      <td>...</td>\n",
       "      <td>0</td>\n",
       "      <td>0</td>\n",
       "      <td>0</td>\n",
       "      <td>0</td>\n",
       "      <td>0</td>\n",
       "      <td>0</td>\n",
       "      <td>0</td>\n",
       "      <td>0</td>\n",
       "      <td>NaN</td>\n",
       "      <td>NaN</td>\n",
       "    </tr>\n",
       "  </tbody>\n",
       "</table>\n",
       "<p>62642 rows × 29 columns</p>\n",
       "</div>"
      ],
      "text/plain": [
       "                timestamp     company     level                         title  \\\n",
       "0       6/7/2017 11:33:27      Oracle        L3               Product Manager   \n",
       "1      6/10/2017 17:11:29        eBay      SE 2             Software Engineer   \n",
       "2      6/11/2017 14:53:57      Amazon        L7               Product Manager   \n",
       "3       6/17/2017 0:23:14       Apple        M1  Software Engineering Manager   \n",
       "4      6/20/2017 10:58:51   Microsoft        60             Software Engineer   \n",
       "...                   ...         ...       ...                           ...   \n",
       "62637   9/9/2018 11:52:32      Google        T4             Software Engineer   \n",
       "62638   9/13/2018 8:23:32   Microsoft        62             Software Engineer   \n",
       "62639  9/13/2018 14:35:59        MSFT        63             Software Engineer   \n",
       "62640  9/16/2018 16:10:35  Salesforce  Lead MTS             Software Engineer   \n",
       "62641   1/29/2019 5:12:59       apple      ict3             Software Engineer   \n",
       "\n",
       "       totalyearlycompensation           location  yearsofexperience  \\\n",
       "0                       127000   Redwood City, CA                1.5   \n",
       "1                       100000  San Francisco, CA                5.0   \n",
       "2                       310000        Seattle, WA                8.0   \n",
       "3                       372000      Sunnyvale, CA                7.0   \n",
       "4                       157000  Mountain View, CA                5.0   \n",
       "...                        ...                ...                ...   \n",
       "62637                   327000        Seattle, WA               10.0   \n",
       "62638                   237000        Redmond, WA                2.0   \n",
       "62639                   220000        Seattle, WA               14.0   \n",
       "62640                   280000  San Francisco, CA                8.0   \n",
       "62641                   200000      Sunnyvale, CA                0.0   \n",
       "\n",
       "       yearsatcompany                             tag  basesalary  ...  \\\n",
       "0                 1.5                             NaN    107000.0  ...   \n",
       "1                 3.0                             NaN         0.0  ...   \n",
       "2                 0.0                             NaN    155000.0  ...   \n",
       "3                 5.0                             NaN    157000.0  ...   \n",
       "4                 3.0                             NaN         0.0  ...   \n",
       "...               ...                             ...         ...  ...   \n",
       "62637             1.0  Distributed Systems (Back-End)    155000.0  ...   \n",
       "62638             2.0                      Full Stack    146900.0  ...   \n",
       "62639            12.0                      Full Stack    157000.0  ...   \n",
       "62640             4.0                             iOS    194688.0  ...   \n",
       "62641             0.0                         ML / AI    155000.0  ...   \n",
       "\n",
       "       Doctorate_Degree  Highschool Some_College Race_Asian  Race_White  \\\n",
       "0                     0           0            0          0           0   \n",
       "1                     0           0            0          0           0   \n",
       "2                     0           0            0          0           0   \n",
       "3                     0           0            0          0           0   \n",
       "4                     0           0            0          0           0   \n",
       "...                 ...         ...          ...        ...         ...   \n",
       "62637                 0           0            0          0           0   \n",
       "62638                 0           0            0          0           0   \n",
       "62639                 0           0            0          0           0   \n",
       "62640                 0           0            0          0           0   \n",
       "62641                 0           0            0          0           0   \n",
       "\n",
       "       Race_Two_Or_More  Race_Black  Race_Hispanic  Race  Education  \n",
       "0                     0           0              0   NaN        NaN  \n",
       "1                     0           0              0   NaN        NaN  \n",
       "2                     0           0              0   NaN        NaN  \n",
       "3                     0           0              0   NaN        NaN  \n",
       "4                     0           0              0   NaN        NaN  \n",
       "...                 ...         ...            ...   ...        ...  \n",
       "62637                 0           0              0   NaN        NaN  \n",
       "62638                 0           0              0   NaN        NaN  \n",
       "62639                 0           0              0   NaN        NaN  \n",
       "62640                 0           0              0   NaN        NaN  \n",
       "62641                 0           0              0   NaN        NaN  \n",
       "\n",
       "[62642 rows x 29 columns]"
      ]
     },
     "execution_count": 18,
     "metadata": {},
     "output_type": "execute_result"
    }
   ],
   "source": [
    "df = pd.read_csv(\"stem_salaries_data.csv\")\n",
    "df"
   ]
  },
  {
   "cell_type": "code",
   "execution_count": 3,
   "id": "3ff47a92",
   "metadata": {},
   "outputs": [
    {
     "data": {
      "text/plain": [
       "title\n",
       "Business Analyst                103505.084746\n",
       "Data Scientist                  138054.693561\n",
       "Hardware Engineer               139628.181818\n",
       "Human Resources                 128590.659341\n",
       "Management Consultant           136195.696721\n",
       "Marketing                       140957.746479\n",
       "Mechanical Engineer             118455.102041\n",
       "Product Designer                137163.588391\n",
       "Product Manager                 148663.562166\n",
       "Recruiter                       117496.674058\n",
       "Sales                           118470.715835\n",
       "Software Engineer               132414.623681\n",
       "Software Engineering Manager    174204.469039\n",
       "Solution Architect              140173.509075\n",
       "Technical Program Manager       156454.742940\n",
       "Name: basesalary, dtype: float64"
      ]
     },
     "execution_count": 3,
     "metadata": {},
     "output_type": "execute_result"
    }
   ],
   "source": [
    "df.groupby(\"title\")[\"basesalary\"].mean()"
   ]
  },
  {
   "cell_type": "code",
   "execution_count": 4,
   "id": "3aaf030d",
   "metadata": {},
   "outputs": [
    {
     "data": {
      "text/plain": [
       "title\n",
       "Business Analyst                129727.683616\n",
       "Data Scientist                  203656.710628\n",
       "Hardware Engineer               213655.000000\n",
       "Human Resources                 178711.538462\n",
       "Management Consultant           162795.081967\n",
       "Marketing                       198971.830986\n",
       "Mechanical Engineer             158442.857143\n",
       "Product Designer                207637.203166\n",
       "Product Manager                 257813.396105\n",
       "Recruiter                       155580.931264\n",
       "Sales                           214273.318872\n",
       "Software Engineer               205403.992287\n",
       "Software Engineering Manager    354635.752312\n",
       "Solution Architect              212736.387208\n",
       "Technical Program Manager       237099.927589\n",
       "Name: totalyearlycompensation, dtype: float64"
      ]
     },
     "execution_count": 4,
     "metadata": {},
     "output_type": "execute_result"
    }
   ],
   "source": [
    "df.groupby(\"title\")[\"totalyearlycompensation\"].mean()"
   ]
  },
  {
   "cell_type": "code",
   "execution_count": 5,
   "id": "c97559f7",
   "metadata": {},
   "outputs": [
    {
     "data": {
      "text/plain": [
       "<AxesSubplot:xlabel='gender', ylabel='Count'>"
      ]
     },
     "execution_count": 5,
     "metadata": {},
     "output_type": "execute_result"
    },
    {
     "data": {
      "image/png": "[encoded data removed]",
      "text/plain": [
       "<Figure size 432x288 with 1 Axes>"
      ]
     },
     "metadata": {
      "needs_background": "light"
     },
     "output_type": "display_data"
    }
   ],
   "source": [
    "# Distrbution of gender for all STEM jobs in dataset\n",
    "sns.histplot(data=df[\"gender\"], bins=2)"
   ]
  },
  {
   "cell_type": "code",
   "execution_count": 6,
   "id": "9993d08f",
   "metadata": {},
   "outputs": [
    {
     "data": {
      "text/plain": [
       "<AxesSubplot:xlabel='gender', ylabel='Count'>"
      ]
     },
     "execution_count": 6,
     "metadata": {},
     "output_type": "execute_result"
    },
    {
     "data": {
      "image/png": "[encoded data removed]",
      "text/plain": [
       "<Figure size 432x288 with 1 Axes>"
      ]
     },
     "metadata": {
      "needs_background": "light"
     },
     "output_type": "display_data"
    }
   ],
   "source": [
    "# Distributuon of gender for people with job title of \"Data Scientist\"\n",
    "df_ds = df.loc[df[\"title\"] == \"Data Scientist\", :]\n",
    "sns.histplot(data=df_ds[\"gender\"], bins=2)"
   ]
  },
  {
   "cell_type": "code",
   "execution_count": 16,
   "id": "7e8a8c57",
   "metadata": {},
   "outputs": [
    {
     "data": {
      "text/plain": [
       "<AxesSubplot:xlabel='yearsofexperience_bins', ylabel='basesalary'>"
      ]
     },
     "execution_count": 16,
     "metadata": {},
     "output_type": "execute_result"
    },
    {
     "data": {
      "image/png": "[encoded data removed]",
      "text/plain": [
       "<Figure size 432x288 with 1 Axes>"
      ]
     },
     "metadata": {
      "needs_background": "light"
     },
     "output_type": "display_data"
    }
   ],
   "source": [
    "# Base salary for STEM jobs grouped by years of experience\n",
    "df[\"yearsofexperience_bins\"] = pd.qcut(df[\"yearsofexperience\"], 3)\n",
    "sns.boxplot(x=\"yearsofexperience_bins\", y=\"basesalary\", showfliers = False, data=df)"
   ]
  },
  {
   "cell_type": "code",
   "execution_count": 17,
   "id": "a41bec99",
   "metadata": {},
   "outputs": [
    {
     "data": {
      "text/plain": [
       "<AxesSubplot:xlabel='yearsatcompany_bins', ylabel='basesalary'>"
      ]
     },
     "execution_count": 17,
     "metadata": {},
     "output_type": "execute_result"
    },
    {
     "data": {
      "image/png": "[encoded data removed]",
      "text/plain": [
       "<Figure size 432x288 with 1 Axes>"
      ]
     },
     "metadata": {
      "needs_background": "light"
     },
     "output_type": "display_data"
    }
   ],
   "source": [
    "# Base salary for STEM jobs grouped by years at company\n",
    "df[\"yearsatcompany_bins\"] = pd.qcut(df[\"yearsatcompany\"], 3)\n",
    "sns.boxplot(x=\"yearsatcompany_bins\", y=\"basesalary\", showfliers = False, data=df)"
   ]
  },
  {
   "cell_type": "code",
   "execution_count": 14,
   "id": "58420fe5",
   "metadata": {},
   "outputs": [
    {
     "data": {
      "image/png": "[encoded data removed]",
      "text/plain": [
       "<Figure size 432x288 with 1 Axes>"
      ]
     },
     "metadata": {
      "needs_background": "light"
     },
     "output_type": "display_data"
    }
   ],
   "source": [
    "# Quantile plot of salaries for four randomly selected job titles just for fun\n",
    "dy = df.loc[df[\"title\"].isin(df[\"title\"].unique()[:4]),]\n",
    "p = np.linspace(0.05, 0.95, 10)\n",
    "qw = dy.groupby(\"title\")[\"basesalary\"].quantile(p).reset_index()\n",
    "ax = sns.lineplot(x='level_1', y='basesalary', hue = 'title', palette='deep', data=qw)"
   ]
  }
 ],
 "metadata": {
  "kernelspec": {
   "display_name": "Python 3 (ipykernel)",
   "language": "python",
   "name": "python3"
  },
  "language_info": {
   "codemirror_mode": {
    "name": "ipython",
    "version": 3
   },
   "file_extension": ".py",
   "mimetype": "text/x-python",
   "name": "python",
   "nbconvert_exporter": "python",
   "pygments_lexer": "ipython3",
   "version": "3.9.10"
  }
 },
 "nbformat": 4,
 "nbformat_minor": 5
}
